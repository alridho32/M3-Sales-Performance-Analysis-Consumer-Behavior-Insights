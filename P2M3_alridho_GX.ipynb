{
 "cells": [
  {
   "cell_type": "markdown",
   "metadata": {},
   "source": [
    "# **I. Perkenalan**"
   ]
  },
  {
   "cell_type": "markdown",
   "metadata": {},
   "source": [
    "=================================================\n",
    "\n",
    "### **Milestone 3 (Great Expectation)**\n",
    "\n",
    "##### Nama  : Achmed Alridho Zulkarnaen\n",
    "\n",
    "##### Batch : FTDS-037-RMT\n",
    "\n",
    "##### File ipynb ini dibuat untuk melakukan validasi data menggunakan Great Expectations.\n",
    "\n",
    "================================================="
   ]
  },
  {
   "cell_type": "markdown",
   "metadata": {},
   "source": [
    "# **II. Membuat Data Context**"
   ]
  },
  {
   "cell_type": "code",
   "execution_count": 1,
   "metadata": {},
   "outputs": [],
   "source": [
    "# Create a data context\n",
    "from great_expectations.data_context import FileDataContext\n",
    "import pandas as pd\n",
    "\n",
    "context = FileDataContext.create(project_root_dir='./')"
   ]
  },
  {
   "cell_type": "markdown",
   "metadata": {},
   "source": [
    "# **III. Konek ke Datasource**"
   ]
  },
  {
   "cell_type": "code",
   "execution_count": 7,
   "metadata": {},
   "outputs": [],
   "source": [
    "df = pd.read_csv('dags/P2M3_alridho_data_clean.csv')\n",
    "# Menghapus kolom dengan nama spesifik 'Unnamed: 0'\n",
    "df = df.drop(columns=['Unnamed: 0'])\n",
    "df.to_csv('P2M3_alridho_data_clean_gx.csv', index=False)"
   ]
  },
  {
   "cell_type": "code",
   "execution_count": 9,
   "metadata": {},
   "outputs": [],
   "source": [
    "# Give a name to a Datasource. This name must be unique between Datasources.\n",
    "datasource_name = 'data-clean-store-sales-supermarket'\n",
    "datasource = context.sources.add_pandas(datasource_name)\n",
    "asset_name = 'data-store-sales'\n",
    "path_to_data = 'P2M3_alridho_data_clean_gx.csv'\n",
    "asset = datasource.add_csv_asset(asset_name, filepath_or_buffer=path_to_data)\n",
    "# Build batch request\n",
    "batch_request = asset.build_batch_request()"
   ]
  },
  {
   "cell_type": "markdown",
   "metadata": {},
   "source": [
    "# **IV. Membuat Expectation Suite**"
   ]
  },
  {
   "cell_type": "code",
   "execution_count": 10,
   "metadata": {},
   "outputs": [
    {
     "data": {
      "application/vnd.jupyter.widget-view+json": {
       "model_id": "54821c8fe6f2469e972ebe391ca16aab",
       "version_major": 2,
       "version_minor": 0
      },
      "text/plain": [
       "Calculating Metrics:   0%|          | 0/1 [00:00<?, ?it/s]"
      ]
     },
     "metadata": {},
     "output_type": "display_data"
    },
    {
     "data": {
      "text/html": [
       "<div>\n",
       "<style scoped>\n",
       "    .dataframe tbody tr th:only-of-type {\n",
       "        vertical-align: middle;\n",
       "    }\n",
       "\n",
       "    .dataframe tbody tr th {\n",
       "        vertical-align: top;\n",
       "    }\n",
       "\n",
       "    .dataframe thead th {\n",
       "        text-align: right;\n",
       "    }\n",
       "</style>\n",
       "<table border=\"1\" class=\"dataframe\">\n",
       "  <thead>\n",
       "    <tr style=\"text-align: right;\">\n",
       "      <th></th>\n",
       "      <th>invoice_id</th>\n",
       "      <th>branch</th>\n",
       "      <th>city</th>\n",
       "      <th>customer_type</th>\n",
       "      <th>gender</th>\n",
       "      <th>product_line</th>\n",
       "      <th>unit_price</th>\n",
       "      <th>quantity</th>\n",
       "      <th>tax_5</th>\n",
       "      <th>total</th>\n",
       "      <th>date</th>\n",
       "      <th>time</th>\n",
       "      <th>payment</th>\n",
       "      <th>cogs</th>\n",
       "      <th>gross_margin_percentage</th>\n",
       "      <th>gross_income</th>\n",
       "      <th>rating</th>\n",
       "    </tr>\n",
       "  </thead>\n",
       "  <tbody>\n",
       "    <tr>\n",
       "      <th>0</th>\n",
       "      <td>750-67-8428</td>\n",
       "      <td>A</td>\n",
       "      <td>Yangon</td>\n",
       "      <td>Member</td>\n",
       "      <td>Female</td>\n",
       "      <td>Health and beauty</td>\n",
       "      <td>74.69</td>\n",
       "      <td>7</td>\n",
       "      <td>26.14</td>\n",
       "      <td>548.97</td>\n",
       "      <td>2019-01-05</td>\n",
       "      <td>13:08:00</td>\n",
       "      <td>Ewallet</td>\n",
       "      <td>522.83</td>\n",
       "      <td>4.76</td>\n",
       "      <td>26.14</td>\n",
       "      <td>9.1</td>\n",
       "    </tr>\n",
       "    <tr>\n",
       "      <th>1</th>\n",
       "      <td>226-31-3081</td>\n",
       "      <td>C</td>\n",
       "      <td>Naypyitaw</td>\n",
       "      <td>Normal</td>\n",
       "      <td>Female</td>\n",
       "      <td>Electronic accessories</td>\n",
       "      <td>15.28</td>\n",
       "      <td>5</td>\n",
       "      <td>3.82</td>\n",
       "      <td>80.22</td>\n",
       "      <td>2019-03-08</td>\n",
       "      <td>10:29:00</td>\n",
       "      <td>Cash</td>\n",
       "      <td>76.40</td>\n",
       "      <td>4.76</td>\n",
       "      <td>3.82</td>\n",
       "      <td>9.6</td>\n",
       "    </tr>\n",
       "    <tr>\n",
       "      <th>2</th>\n",
       "      <td>631-41-3108</td>\n",
       "      <td>A</td>\n",
       "      <td>Yangon</td>\n",
       "      <td>Normal</td>\n",
       "      <td>Male</td>\n",
       "      <td>Home and lifestyle</td>\n",
       "      <td>46.33</td>\n",
       "      <td>7</td>\n",
       "      <td>16.22</td>\n",
       "      <td>340.53</td>\n",
       "      <td>2019-03-03</td>\n",
       "      <td>13:23:00</td>\n",
       "      <td>Credit card</td>\n",
       "      <td>324.31</td>\n",
       "      <td>4.76</td>\n",
       "      <td>16.22</td>\n",
       "      <td>7.4</td>\n",
       "    </tr>\n",
       "    <tr>\n",
       "      <th>3</th>\n",
       "      <td>123-19-1176</td>\n",
       "      <td>A</td>\n",
       "      <td>Yangon</td>\n",
       "      <td>Member</td>\n",
       "      <td>Male</td>\n",
       "      <td>Health and beauty</td>\n",
       "      <td>58.22</td>\n",
       "      <td>8</td>\n",
       "      <td>23.29</td>\n",
       "      <td>489.05</td>\n",
       "      <td>2019-01-27</td>\n",
       "      <td>20:33:00</td>\n",
       "      <td>Ewallet</td>\n",
       "      <td>465.76</td>\n",
       "      <td>4.76</td>\n",
       "      <td>23.29</td>\n",
       "      <td>8.4</td>\n",
       "    </tr>\n",
       "    <tr>\n",
       "      <th>4</th>\n",
       "      <td>373-73-7910</td>\n",
       "      <td>A</td>\n",
       "      <td>Yangon</td>\n",
       "      <td>Normal</td>\n",
       "      <td>Male</td>\n",
       "      <td>Sports and travel</td>\n",
       "      <td>86.31</td>\n",
       "      <td>7</td>\n",
       "      <td>30.21</td>\n",
       "      <td>634.38</td>\n",
       "      <td>2019-02-08</td>\n",
       "      <td>10:37:00</td>\n",
       "      <td>Ewallet</td>\n",
       "      <td>604.17</td>\n",
       "      <td>4.76</td>\n",
       "      <td>30.21</td>\n",
       "      <td>5.3</td>\n",
       "    </tr>\n",
       "  </tbody>\n",
       "</table>\n",
       "</div>"
      ],
      "text/plain": [
       "    invoice_id branch       city customer_type  gender  \\\n",
       "0  750-67-8428      A     Yangon        Member  Female   \n",
       "1  226-31-3081      C  Naypyitaw        Normal  Female   \n",
       "2  631-41-3108      A     Yangon        Normal    Male   \n",
       "3  123-19-1176      A     Yangon        Member    Male   \n",
       "4  373-73-7910      A     Yangon        Normal    Male   \n",
       "\n",
       "             product_line  unit_price  quantity  tax_5   total        date  \\\n",
       "0       Health and beauty       74.69         7  26.14  548.97  2019-01-05   \n",
       "1  Electronic accessories       15.28         5   3.82   80.22  2019-03-08   \n",
       "2      Home and lifestyle       46.33         7  16.22  340.53  2019-03-03   \n",
       "3       Health and beauty       58.22         8  23.29  489.05  2019-01-27   \n",
       "4       Sports and travel       86.31         7  30.21  634.38  2019-02-08   \n",
       "\n",
       "       time      payment    cogs  gross_margin_percentage  gross_income  \\\n",
       "0  13:08:00      Ewallet  522.83                     4.76         26.14   \n",
       "1  10:29:00         Cash   76.40                     4.76          3.82   \n",
       "2  13:23:00  Credit card  324.31                     4.76         16.22   \n",
       "3  20:33:00      Ewallet  465.76                     4.76         23.29   \n",
       "4  10:37:00      Ewallet  604.17                     4.76         30.21   \n",
       "\n",
       "   rating  \n",
       "0     9.1  \n",
       "1     9.6  \n",
       "2     7.4  \n",
       "3     8.4  \n",
       "4     5.3  "
      ]
     },
     "execution_count": 10,
     "metadata": {},
     "output_type": "execute_result"
    }
   ],
   "source": [
    "# Creat an expectation suite\n",
    "expectation_suite_name = 'expectation-store-sales'\n",
    "context.add_or_update_expectation_suite(expectation_suite_name)\n",
    "# Create a validator using above expectation suite\n",
    "validator = context.get_validator(\n",
    "    batch_request = batch_request,\n",
    "    expectation_suite_name = expectation_suite_name\n",
    ")\n",
    "# Check the validator\n",
    "validator.head()"
   ]
  },
  {
   "cell_type": "markdown",
   "metadata": {},
   "source": [
    "# **V. Expectations**"
   ]
  },
  {
   "cell_type": "markdown",
   "metadata": {},
   "source": [
    "### **Expectation 1 (to be unique)**\n",
    "\n",
    "Pada kolom `invoice_id` saya melakukan ekspektasi to be unique, dimana data dari invoice_id ini memang sudah seharusnya unique, karena 1 transaksi = 1 invoice. Jika ada invoice_id yang sama maka itu merupakan suatu eror dan harus di handle."
   ]
  },
  {
   "cell_type": "code",
   "execution_count": null,
   "metadata": {},
   "outputs": [
    {
     "data": {
      "application/vnd.jupyter.widget-view+json": {
       "model_id": "ae411ac74c0d4e518a43202884cc84c5",
       "version_major": 2,
       "version_minor": 0
      },
      "text/plain": [
       "Calculating Metrics:   0%|          | 0/8 [00:00<?, ?it/s]"
      ]
     },
     "metadata": {},
     "output_type": "display_data"
    },
    {
     "data": {
      "text/plain": [
       "{\n",
       "  \"success\": true,\n",
       "  \"result\": {\n",
       "    \"element_count\": 1000,\n",
       "    \"unexpected_count\": 0,\n",
       "    \"unexpected_percent\": 0.0,\n",
       "    \"partial_unexpected_list\": [],\n",
       "    \"missing_count\": 0,\n",
       "    \"missing_percent\": 0.0,\n",
       "    \"unexpected_percent_total\": 0.0,\n",
       "    \"unexpected_percent_nonmissing\": 0.0\n",
       "  },\n",
       "  \"meta\": {},\n",
       "  \"exception_info\": {\n",
       "    \"raised_exception\": false,\n",
       "    \"exception_traceback\": null,\n",
       "    \"exception_message\": null\n",
       "  }\n",
       "}"
      ]
     },
     "execution_count": 11,
     "metadata": {},
     "output_type": "execute_result"
    }
   ],
   "source": [
    "# Expectation 1 : Column `invoice_id` must be unique\n",
    "\n",
    "validator.expect_column_values_to_be_unique('invoice_id')"
   ]
  },
  {
   "cell_type": "markdown",
   "metadata": {},
   "source": [
    "### **Expectation 2 (to be between min_value and max_value)**\n",
    "\n",
    "Pada kolom `rating` saya melakukan ekspektasi to be between min_value and max_value, dimana data dari rating diharapkan memiliki nilai min_value = 0 dan max_value = 10. Karena pada saat pemberian rating memang range yang bisa di berikan oleh customer pada supermarket X adalah dari 0-10 tidak bisa lebih atau kurang."
   ]
  },
  {
   "cell_type": "code",
   "execution_count": 22,
   "metadata": {},
   "outputs": [
    {
     "data": {
      "application/vnd.jupyter.widget-view+json": {
       "model_id": "9ef7a20f1927443dab1436bd5831a26f",
       "version_major": 2,
       "version_minor": 0
      },
      "text/plain": [
       "Calculating Metrics:   0%|          | 0/8 [00:00<?, ?it/s]"
      ]
     },
     "metadata": {},
     "output_type": "display_data"
    },
    {
     "data": {
      "text/plain": [
       "{\n",
       "  \"success\": true,\n",
       "  \"result\": {\n",
       "    \"element_count\": 1000,\n",
       "    \"unexpected_count\": 0,\n",
       "    \"unexpected_percent\": 0.0,\n",
       "    \"partial_unexpected_list\": [],\n",
       "    \"missing_count\": 0,\n",
       "    \"missing_percent\": 0.0,\n",
       "    \"unexpected_percent_total\": 0.0,\n",
       "    \"unexpected_percent_nonmissing\": 0.0\n",
       "  },\n",
       "  \"meta\": {},\n",
       "  \"exception_info\": {\n",
       "    \"raised_exception\": false,\n",
       "    \"exception_traceback\": null,\n",
       "    \"exception_message\": null\n",
       "  }\n",
       "}"
      ]
     },
     "execution_count": 22,
     "metadata": {},
     "output_type": "execute_result"
    }
   ],
   "source": [
    "# Expectation 2 : Column `rating` must be in range 0 to 10\n",
    "\n",
    "validator.expect_column_values_to_be_between(column='rating', min_value=0, max_value=10)"
   ]
  },
  {
   "cell_type": "markdown",
   "metadata": {},
   "source": [
    "### **Expectation 3 (to be in set)**\n",
    "\n",
    "Pada kolom `product_line` saya melakukan ekspektasi to be in set, dimana data yang ada di dalam kolom ini harus merupakan salah satu dari 6 hal ini:\n",
    "1. Health and beauty\n",
    "2. Electronic accessories\n",
    "3. Home and lifestyle\n",
    "4. Sports and travel\n",
    "5. Food and beverages\n",
    "6. Fashion accessories"
   ]
  },
  {
   "cell_type": "code",
   "execution_count": null,
   "metadata": {},
   "outputs": [
    {
     "data": {
      "application/vnd.jupyter.widget-view+json": {
       "model_id": "0915e38f21c54f04bffdc67ae85ef25b",
       "version_major": 2,
       "version_minor": 0
      },
      "text/plain": [
       "Calculating Metrics:   0%|          | 0/8 [00:00<?, ?it/s]"
      ]
     },
     "metadata": {},
     "output_type": "display_data"
    },
    {
     "data": {
      "text/plain": [
       "{\n",
       "  \"success\": true,\n",
       "  \"result\": {\n",
       "    \"element_count\": 1000,\n",
       "    \"unexpected_count\": 0,\n",
       "    \"unexpected_percent\": 0.0,\n",
       "    \"partial_unexpected_list\": [],\n",
       "    \"missing_count\": 0,\n",
       "    \"missing_percent\": 0.0,\n",
       "    \"unexpected_percent_total\": 0.0,\n",
       "    \"unexpected_percent_nonmissing\": 0.0\n",
       "  },\n",
       "  \"meta\": {},\n",
       "  \"exception_info\": {\n",
       "    \"raised_exception\": false,\n",
       "    \"exception_traceback\": null,\n",
       "    \"exception_message\": null\n",
       "  }\n",
       "}"
      ]
     },
     "execution_count": 26,
     "metadata": {},
     "output_type": "execute_result"
    }
   ],
   "source": [
    "# Expectation 3 : Column 'prduct_line' must contain one of the following 6 things.\n",
    "\n",
    "validator.expect_column_values_to_be_in_set('product_line', ['Health and beauty','Electronic accessories',\n",
    "        'Home and lifestyle', 'Sports and travel', 'Food and beverages','Fashion accessories'])"
   ]
  },
  {
   "cell_type": "markdown",
   "metadata": {},
   "source": [
    "### **Expectation 4 (to be in type list)**\n",
    "\n",
    "Pada kolom `unit_price` saya melakukan ekspektasi to be in type list, dimana data pada kolom ini saya harapkan bertipe integer atau float, hal ini karena saya memiliki ekspektasi dimana harga dengan kurs dollar memang sudah seharusnya berbentuk integer atau float. Selain kedua tipe ini maka akan termasuk kedalam pelanggaran ekspektasi"
   ]
  },
  {
   "cell_type": "code",
   "execution_count": 28,
   "metadata": {},
   "outputs": [
    {
     "data": {
      "application/vnd.jupyter.widget-view+json": {
       "model_id": "babf748dbd22435a95fd62da7b9a8cc1",
       "version_major": 2,
       "version_minor": 0
      },
      "text/plain": [
       "Calculating Metrics:   0%|          | 0/1 [00:00<?, ?it/s]"
      ]
     },
     "metadata": {},
     "output_type": "display_data"
    },
    {
     "data": {
      "text/plain": [
       "{\n",
       "  \"success\": true,\n",
       "  \"result\": {\n",
       "    \"observed_value\": \"float64\"\n",
       "  },\n",
       "  \"meta\": {},\n",
       "  \"exception_info\": {\n",
       "    \"raised_exception\": false,\n",
       "    \"exception_traceback\": null,\n",
       "    \"exception_message\": null\n",
       "  }\n",
       "}"
      ]
     },
     "execution_count": 28,
     "metadata": {},
     "output_type": "execute_result"
    }
   ],
   "source": [
    "# Expectation 4 : Column `unit_price` must in form of integer or float\n",
    "\n",
    "validator.expect_column_values_to_be_in_type_list('unit_price', ['int64', 'float64'])"
   ]
  },
  {
   "cell_type": "markdown",
   "metadata": {},
   "source": [
    "### **Expectation 5 (table column count to equal)**\n",
    "\n",
    "Pada `dataframe` saya melakukan ekspektasi table_column_count_to_equal, dimana saya memiliki ekspektasi bahwa dalam dataframe ini harus terdapat `17 column` yang meliputi:\n",
    "1.    invoice_id: Identifikasi unik untuk setiap faktur atau transaksi.\n",
    "2.    branch: Cabang atau lokasi tempat transaksi terjadi.\n",
    "3.    city: Kota tempat cabang berada.\n",
    "4.    customer Type: Menunjukkan apakah pelanggan adalah pelanggan tetap atau baru.\n",
    "5.    gender: Jenis kelamin pelanggan.\n",
    "6.    product Line: Kategori atau jenis produk yang dibeli.\n",
    "7.    unit_price: Harga per unit produk.\n",
    "8.    quantity: Jumlah unit produk yang dibeli.\n",
    "9.    tax_5: Jumlah pajak (5% dari total biaya) yang diterapkan pada transaksi.\n",
    "10.   total: Total biaya transaksi, termasuk pajak.\n",
    "11.   date: Tanggal transaksi terjadi.\n",
    "12.   time: Waktu saat transaksi terjadi.\n",
    "13.   payment: Metode pembayaran yang digunakan (misalnya, kartu kredit, tunai).\n",
    "14.   cogs: Biaya langsung terkait dengan produksi atau pembelian produk yang dijual.\n",
    "15.   gross_margin_percentage: Persentase margin keuntungan untuk transaksi.\n",
    "16.   gross_income: Total keuntungan yang diperoleh dari transaksi.\n",
    "17.   rating: Penilaian atau umpan balik kepuasan pelanggan terhadap transaksi."
   ]
  },
  {
   "cell_type": "code",
   "execution_count": 29,
   "metadata": {},
   "outputs": [
    {
     "data": {
      "application/vnd.jupyter.widget-view+json": {
       "model_id": "26477ea432af4a4588b8ad44e4447403",
       "version_major": 2,
       "version_minor": 0
      },
      "text/plain": [
       "Calculating Metrics:   0%|          | 0/3 [00:00<?, ?it/s]"
      ]
     },
     "metadata": {},
     "output_type": "display_data"
    },
    {
     "data": {
      "text/plain": [
       "{\n",
       "  \"success\": true,\n",
       "  \"result\": {\n",
       "    \"observed_value\": 17\n",
       "  },\n",
       "  \"meta\": {},\n",
       "  \"exception_info\": {\n",
       "    \"raised_exception\": false,\n",
       "    \"exception_traceback\": null,\n",
       "    \"exception_message\": null\n",
       "  }\n",
       "}"
      ]
     },
     "execution_count": 29,
     "metadata": {},
     "output_type": "execute_result"
    }
   ],
   "source": [
    "# Expectation 5 : Total Column dataframe must be 17\n",
    "\n",
    "validator.expect_table_column_count_to_equal(value=17)"
   ]
  },
  {
   "cell_type": "markdown",
   "metadata": {},
   "source": [
    "### **Expectation 6 (column to exist)**\n",
    "\n",
    "Saya melakukan ekspektasi dimana kolom `total` pada dataframe harus ada/exist. Saya menilai kolom ini sangat penting, karena mencakup harga total yang dibayar oleh customer. jika kolom ini tidak ada maka akan termasuk kedalam pelanggaran ekspektasi."
   ]
  },
  {
   "cell_type": "code",
   "execution_count": 31,
   "metadata": {},
   "outputs": [
    {
     "data": {
      "application/vnd.jupyter.widget-view+json": {
       "model_id": "b472b5139fe6491d9668f10abfdef4ab",
       "version_major": 2,
       "version_minor": 0
      },
      "text/plain": [
       "Calculating Metrics:   0%|          | 0/2 [00:00<?, ?it/s]"
      ]
     },
     "metadata": {},
     "output_type": "display_data"
    },
    {
     "data": {
      "text/plain": [
       "{\n",
       "  \"success\": true,\n",
       "  \"result\": {},\n",
       "  \"meta\": {},\n",
       "  \"exception_info\": {\n",
       "    \"raised_exception\": false,\n",
       "    \"exception_traceback\": null,\n",
       "    \"exception_message\": null\n",
       "  }\n",
       "}"
      ]
     },
     "execution_count": 31,
     "metadata": {},
     "output_type": "execute_result"
    }
   ],
   "source": [
    "# Expectation 6 : Columns `total` must exist\n",
    "\n",
    "validator.expect_column_to_exist(column='total')"
   ]
  },
  {
   "cell_type": "markdown",
   "metadata": {},
   "source": [
    "### **Expectation 7 (table row count to equal)**\n",
    "\n",
    "Saya melakukan ekspektasi dimana pada tabel harus terdapat 1000 data. jika kurang atau lebih akan termasuk kedalam pelanggaran ekspektasi"
   ]
  },
  {
   "cell_type": "code",
   "execution_count": 36,
   "metadata": {},
   "outputs": [
    {
     "data": {
      "application/vnd.jupyter.widget-view+json": {
       "model_id": "b5637b465cbc458f865ffe0b363def3f",
       "version_major": 2,
       "version_minor": 0
      },
      "text/plain": [
       "Calculating Metrics:   0%|          | 0/1 [00:00<?, ?it/s]"
      ]
     },
     "metadata": {},
     "output_type": "display_data"
    },
    {
     "data": {
      "text/plain": [
       "{\n",
       "  \"success\": true,\n",
       "  \"result\": {\n",
       "    \"observed_value\": 1000\n",
       "  },\n",
       "  \"meta\": {},\n",
       "  \"exception_info\": {\n",
       "    \"raised_exception\": false,\n",
       "    \"exception_traceback\": null,\n",
       "    \"exception_message\": null\n",
       "  }\n",
       "}"
      ]
     },
     "execution_count": 36,
     "metadata": {},
     "output_type": "execute_result"
    }
   ],
   "source": [
    "# Expectation 7 : Total row in the dataframe must be 1000\n",
    "\n",
    "validator.expect_table_row_count_to_equal(value=1000)"
   ]
  },
  {
   "cell_type": "markdown",
   "metadata": {},
   "source": [
    "### **Expectation 8 (column mean to be between)**\n",
    "\n",
    "Saya melakukan ekspektasi column mean to be between pada kolom `gross_income`, untuk mengetahui apakah rata-rata gross_income ada di antara nilai minimum dan maximumnya. Nantinya informasi ini bisa berguna untuk mengetahui mana saja transaksi yang tergolong premium/di atas rata-rata gross_income."
   ]
  },
  {
   "cell_type": "code",
   "execution_count": 37,
   "metadata": {},
   "outputs": [
    {
     "data": {
      "application/vnd.jupyter.widget-view+json": {
       "model_id": "b4ac9bfac5d44b5ba913c82f62c2900f",
       "version_major": 2,
       "version_minor": 0
      },
      "text/plain": [
       "Calculating Metrics:   0%|          | 0/4 [00:00<?, ?it/s]"
      ]
     },
     "metadata": {},
     "output_type": "display_data"
    },
    {
     "data": {
      "text/plain": [
       "{\n",
       "  \"success\": true,\n",
       "  \"result\": {\n",
       "    \"observed_value\": 15.380049999999999\n",
       "  },\n",
       "  \"meta\": {},\n",
       "  \"exception_info\": {\n",
       "    \"raised_exception\": false,\n",
       "    \"exception_traceback\": null,\n",
       "    \"exception_message\": null\n",
       "  }\n",
       "}"
      ]
     },
     "execution_count": 37,
     "metadata": {},
     "output_type": "execute_result"
    }
   ],
   "source": [
    "min_gross = df['gross_income'].min()\n",
    "max_gross = df['gross_income'].max()\n",
    "validator.expect_column_mean_to_be_between('gross_income', min_value=min_gross, max_value=max_gross)"
   ]
  },
  {
   "cell_type": "markdown",
   "metadata": {},
   "source": [
    "# **VI. Save Expectations**"
   ]
  },
  {
   "cell_type": "code",
   "execution_count": 38,
   "metadata": {},
   "outputs": [],
   "source": [
    "# Save into Expectation Suite\n",
    "\n",
    "validator.save_expectation_suite(discard_failed_expectations=False)"
   ]
  },
  {
   "cell_type": "markdown",
   "metadata": {},
   "source": [
    "# **VII. Membuat Checkpoint**"
   ]
  },
  {
   "cell_type": "code",
   "execution_count": 39,
   "metadata": {},
   "outputs": [],
   "source": [
    "# Create a checkpoint\n",
    "\n",
    "checkpoint_1 = context.add_or_update_checkpoint(\n",
    "    name = 'checkpoint_1',\n",
    "    validator = validator,\n",
    ")"
   ]
  },
  {
   "cell_type": "code",
   "execution_count": 40,
   "metadata": {},
   "outputs": [
    {
     "data": {
      "application/vnd.jupyter.widget-view+json": {
       "model_id": "bffabdce860a4fd497991d79fba147cc",
       "version_major": 2,
       "version_minor": 0
      },
      "text/plain": [
       "Calculating Metrics:   0%|          | 0/26 [00:00<?, ?it/s]"
      ]
     },
     "metadata": {},
     "output_type": "display_data"
    }
   ],
   "source": [
    "# Run a checkpoint\n",
    "\n",
    "checkpoint_result = checkpoint_1.run()"
   ]
  }
 ],
 "metadata": {
  "kernelspec": {
   "display_name": "data_science",
   "language": "python",
   "name": "python3"
  },
  "language_info": {
   "codemirror_mode": {
    "name": "ipython",
    "version": 3
   },
   "file_extension": ".py",
   "mimetype": "text/x-python",
   "name": "python",
   "nbconvert_exporter": "python",
   "pygments_lexer": "ipython3",
   "version": "3.9.19"
  }
 },
 "nbformat": 4,
 "nbformat_minor": 2
}
